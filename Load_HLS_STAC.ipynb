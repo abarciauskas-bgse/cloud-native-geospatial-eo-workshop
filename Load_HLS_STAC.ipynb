{
 "cells": [
  {
   "cell_type": "code",
   "execution_count": null,
   "metadata": {},
   "outputs": [],
   "source": [
    "%load_ext autoreload\n",
    "%autoreload 2"
   ]
  },
  {
   "cell_type": "code",
   "execution_count": null,
   "metadata": {},
   "outputs": [],
   "source": [
    "import json\n",
    "\n",
    "import odc.geo  # noqa: F401\n",
    "from odc.stac import configure_rio, load\n",
    "from pystac_client import Client\n",
    "from numpy import sqrt\n",
    "\n",
    "from utils import hls_config"
   ]
  },
  {
   "cell_type": "code",
   "execution_count": null,
   "metadata": {},
   "outputs": [],
   "source": [
    "catalog = \"https://cmr.earthdata.nasa.gov/cloudstac/LPCLOUD/\"\n",
    "\n",
    "# Searching across both landsat and sentinel at 30 m\n",
    "collections = [\"HLSS30.v2.0\", \"HLSL30.v2.0\"]\n",
    "\n",
    "client = Client.open(catalog)"
   ]
  },
  {
   "cell_type": "code",
   "execution_count": null,
   "metadata": {},
   "outputs": [],
   "source": [
    "# BBOX over Precipitous Bluff in Tasmania\n",
    "ll = (-43.55, 146.45)\n",
    "ur = (-43.35, 146.75)\n",
    "bbox = [ll[1], ll[0], ur[1], ur[0]]\n",
    "\n",
    "# Search for items in the collection\n",
    "items = list(\n",
    "    client.search(collections=collections, bbox=bbox, datetime=\"2023-01-01/2023-12-31\").items()\n",
    ")\n",
    "\n",
    "print(f\"Found {len(items)} items\")"
   ]
  },
  {
   "cell_type": "code",
   "execution_count": null,
   "metadata": {},
   "outputs": [],
   "source": [
    "with open(\"secrets.json\") as f:\n",
    "    data = json.load(f)\n",
    "    token = data[\"earthdata\"][\"token\"]"
   ]
  },
  {
   "cell_type": "code",
   "execution_count": null,
   "metadata": {},
   "outputs": [],
   "source": [
    "# Configure GDAL. You need to export your earthdata token as an environment variable.\n",
    "header_string = f\"Authorization: Bearer {token}\"\n",
    "configure_rio(cloud_defaults=True, GDAL_HTTP_HEADERS=header_string)\n",
    "\n",
    "data = load(\n",
    "    items,\n",
    "    bbox=bbox,\n",
    "    crs=\"epsg:6933\",\n",
    "    resolution=30,\n",
    "    chunks={\"x\": 2500, \"y\": 2500, \"time\": 1},\n",
    "    groupby=\"solar_day\",\n",
    "    stac_cfg=hls_config,\n",
    "    bands=[\"red\", \"green\", \"blue\", \"nir\", \"fmask\"]\n",
    ")\n",
    "data"
   ]
  },
  {
   "cell_type": "code",
   "execution_count": null,
   "metadata": {},
   "outputs": [],
   "source": [
    "for var in [\"red\", \"green\", \"blue\", \"nir\"]:\n",
    "    data[var] = data[var] / 10000\n",
    "    data[var] = data[var].where(data[var] > 0, 0)\n",
    "  \n",
    "data[\"ndvi\"] = (data.nir - data.red) / (data.nir + data.red)\n",
    "\n",
    "data[\"evi2\"] = 2.5 * (data.nir - data.red) / (data.nir + 2.4 * data.red + 1)\n",
    "\n",
    "# (2 * NIR + 1 – sqrt ((2 * NIR + 1)2 – 8 * (NIR - R))) / 2\n",
    "data[\"msavi\"] = (\n",
    "    2 * data.nir + 1 - \n",
    "    sqrt((2 * data.nir + 1) ** 2 - (8 * (data.nir - data.red)))\n",
    "    ) / 2"
   ]
  },
  {
   "cell_type": "code",
   "execution_count": null,
   "metadata": {},
   "outputs": [],
   "source": [
    "# flags_definition = {\n",
    "#     {\"cloud\": {\"bits\": 1, \"values\": {0: \"no\", 1: \"yes\"}}},\n",
    "#     {\"cloud_or_shadow_adjacent\": {\"bits\": 2, \"values\": {0: \"no\", 1: \"yes\"}}},\n",
    "#     {\"cloud_shadow\": {\"bits\": 3, \"values\": {0: \"no\", 1: \"yes\"}}},\n",
    "#     {\"snow_ice\": {\"bits\": 4, \"values\": {0: \"no\", 1: \"yes\"}}}\n",
    "#     {\"water\": {\"bits\": 5, \"values\": {0: \"no\", 1: \"yes\"}}}\n",
    "# }\n",
    "\n",
    "# Want to mask cloud and cloud shadow\n",
    "mask_str = \"00001010\"\n",
    "mask_int = int(mask_str, base=2)"
   ]
  },
  {
   "cell_type": "code",
   "execution_count": null,
   "metadata": {},
   "outputs": [],
   "source": [
    "# Show the raw data\n",
    "data[[\"red\", \"green\", \"blue\"]].isel(time=slice(0, 12)).to_array().plot.imshow(\n",
    "    col=\"time\", col_wrap=4, vmin=0, vmax=3000\n",
    ")"
   ]
  },
  {
   "cell_type": "code",
   "execution_count": null,
   "metadata": {},
   "outputs": [],
   "source": [
    "mask_str = \"00001110\"\n",
    "mask_int = int(mask_str, base=2)\n",
    "nodata = data.fmask == data.fmask.odc.nodata\n",
    "mask = (data.fmask & mask_int != 0) | nodata\n",
    "\n",
    "masked = data.where(~mask)"
   ]
  },
  {
   "cell_type": "code",
   "execution_count": null,
   "metadata": {},
   "outputs": [],
   "source": [
    "masked.isel(time=2).ndvi.plot.imshow(vmin=-1, vmax=1)"
   ]
  },
  {
   "cell_type": "code",
   "execution_count": null,
   "metadata": {},
   "outputs": [],
   "source": [
    "# Plot the masked data\n",
    "masked[[\"red\", \"green\", \"blue\"]].isel(time=slice(0, 12)).to_array().plot.imshow(\n",
    "    col=\"time\", col_wrap=4, vmin=0, vmax=3000\n",
    ")"
   ]
  },
  {
   "cell_type": "code",
   "execution_count": null,
   "metadata": {},
   "outputs": [],
   "source": [
    "subset = masked[[\"ndvi\", \"evi2\", \"msavi\"]].isel(x=slice(0, 100), y=slice(0, 100)).compute()\n",
    "subset"
   ]
  },
  {
   "cell_type": "code",
   "execution_count": null,
   "metadata": {},
   "outputs": [],
   "source": [
    "mean = subset.resample(time=\"2W\").mean()\n",
    "mean"
   ]
  },
  {
   "cell_type": "code",
   "execution_count": null,
   "metadata": {},
   "outputs": [],
   "source": [
    "# Plot the mean of NDVI, EVI2, MSAVI over time\n",
    "mean[[\"ndvi\", \"evi2\", \"msavi\"]].mean(dim=[\"x\", \"y\"]).to_array().plot.line(x=\"time\", size=10)"
   ]
  },
  {
   "cell_type": "code",
   "execution_count": null,
   "metadata": {},
   "outputs": [],
   "source": [
    "# Create a simple cloud-free median now we have masked data\n",
    "median = masked.median(\"time\").compute()"
   ]
  },
  {
   "cell_type": "code",
   "execution_count": null,
   "metadata": {},
   "outputs": [],
   "source": [
    "# Plot the median. This is just one month, so we expect\n",
    "# some areas to be missing due to clouds\n",
    "median.odc.explore(vmin=0, vmax=1000)"
   ]
  }
 ],
 "metadata": {
  "kernelspec": {
   "display_name": "Python 3",
   "language": "python",
   "name": "python3"
  },
  "language_info": {
   "codemirror_mode": {
    "name": "ipython",
    "version": 3
   },
   "file_extension": ".py",
   "mimetype": "text/x-python",
   "name": "python",
   "nbconvert_exporter": "python",
   "pygments_lexer": "ipython3",
   "version": "3.11.6"
  },
  "orig_nbformat": 4
 },
 "nbformat": 4,
 "nbformat_minor": 2
}
