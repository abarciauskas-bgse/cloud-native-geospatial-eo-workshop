{
 "cells": [
  {
   "cell_type": "code",
   "execution_count": 1,
   "metadata": {},
   "outputs": [],
   "source": [
    "%load_ext autoreload\n",
    "%autoreload 2"
   ]
  },
  {
   "cell_type": "code",
   "execution_count": 2,
   "metadata": {},
   "outputs": [],
   "source": [
    "import os\n",
    "import json\n",
    "\n",
    "import odc.geo\n",
    "from odc.stac import configure_rio, load\n",
    "from pystac_client import Client"
   ]
  },
  {
   "cell_type": "code",
   "execution_count": 3,
   "metadata": {},
   "outputs": [],
   "source": [
    "catalog = \"https://cmr.earthdata.nasa.gov/cloudstac/LPCLOUD/\"\n",
    "\n",
    "# Searching across both landsat and sentinel at 30 m\n",
    "collections = [\"HLSS30.v2.0\", \"HLSL30.v2.0\"]\n",
    "\n",
    "client = Client.open(catalog)"
   ]
  },
  {
   "cell_type": "code",
   "execution_count": 4,
   "metadata": {},
   "outputs": [],
   "source": [
    "# BBOX over Precipitous Bluff in Tasmania\n",
    "ll = (-43.55, 146.45)\n",
    "ur = (-43.35, 146.75)\n",
    "bbox = [ll[1], ll[0], ur[1], ur[0]]\n",
    "\n",
    "# Search for items in the collection\n",
    "items = client.search(collections=collections, bbox=bbox, datetime=\"2023-07-01/2023-09-30\").items()"
   ]
  },
  {
   "cell_type": "code",
   "execution_count": 5,
   "metadata": {},
   "outputs": [
    {
     "name": "stdout",
     "output_type": "stream",
     "text": [
      "Found 109 items\n"
     ]
    }
   ],
   "source": [
    "items = [i for i in items]\n",
    "print(f\"Found {len(items)} items\")"
   ]
  },
  {
   "cell_type": "code",
   "execution_count": 6,
   "metadata": {},
   "outputs": [],
   "source": [
    "\n",
    "\n",
    "with open(\"secrets.json\") as f:\n",
    "    data = json.load(f)\n",
    "    token = data[\"earthdata\"][\"token\"]"
   ]
  },
  {
   "cell_type": "code",
   "execution_count": 7,
   "metadata": {},
   "outputs": [],
   "source": [
    "from utils import hls_config"
   ]
  },
  {
   "cell_type": "code",
   "execution_count": 8,
   "metadata": {},
   "outputs": [],
   "source": [
    "# Configure GDAL. You need to export your earthdata token as an environment variable.\n",
    "header_string = f\"Authorization: Bearer {token}\"\n",
    "configure_rio(cloud_defaults=True, GDAL_HTTP_HEADERS=header_string)\n",
    "\n",
    "data = load(\n",
    "    items,\n",
    "    bbox=bbox,\n",
    "    crs=\"epsg:6933\",\n",
    "    resolution=30,\n",
    "    chunks={\"x\": 2500, \"y\": 2500, \"time\": 1},\n",
    "    groupby=\"solar_day\",\n",
    "    stac_cfg=hls_config,\n",
    "    bands=[\"red\", \"green\", \"blue\", \"nir\", \"fmask\"]\n",
    ")"
   ]
  },
  {
   "cell_type": "code",
   "execution_count": null,
   "metadata": {},
   "outputs": [],
   "source": [
    "# flags_definition = {\n",
    "#     {\"cloud\": {\"bits\": 1, \"values\": {0: \"no\", 1: \"yes\"}}},\n",
    "#     {\"cloud_or_shadow_adjacent\": {\"bits\": 2, \"values\": {0: \"no\", 1: \"yes\"}}},\n",
    "#     {\"cloud_shadow\": {\"bits\": 3, \"values\": {0: \"no\", 1: \"yes\"}}},\n",
    "#     {\"snow_ice\": {\"bits\": 4, \"values\": {0: \"no\", 1: \"yes\"}}}\n",
    "#     {\"water\": {\"bits\": 5, \"values\": {0: \"no\", 1: \"yes\"}}}\n",
    "# }\n",
    "\n",
    "# Want to mask cloud and cloud shadow\n",
    "mask_str = \"00001010\"\n",
    "mask_int = int(mask_str, base=2)"
   ]
  },
  {
   "cell_type": "code",
   "execution_count": null,
   "metadata": {},
   "outputs": [],
   "source": [
    "# Show the raw data\n",
    "data[[\"red\", \"green\", \"blue\"]].isel(time=slice(0, 12)).to_array().plot.imshow(\n",
    "    col=\"time\", col_wrap=4, vmin=0, vmax=3000\n",
    ")"
   ]
  },
  {
   "cell_type": "code",
   "execution_count": null,
   "metadata": {},
   "outputs": [],
   "source": [
    "# Show it masked\n",
    "masked[[\"red\", \"green\", \"blue\"]].isel(time=slice(0, 12)).to_array().plot.imshow(\n",
    "    col=\"time\", col_wrap=4, vmin=0, vmax=3000\n",
    ")"
   ]
  },
  {
   "cell_type": "code",
   "execution_count": null,
   "metadata": {},
   "outputs": [],
   "source": [
    "# Create a simple cloud-free median now we have masked data\n",
    "median = masked.median(\"time\").compute()"
   ]
  },
  {
   "cell_type": "code",
   "execution_count": null,
   "metadata": {},
   "outputs": [],
   "source": [
    "# Plot the median. This is just one month, so we expect\n",
    "# some areas to be missing due to clouds\n",
    "rgb = median[[\"red\", \"green\", \"blue\"]].to_array()\n",
    "rgb.plot.imshow(size=10, vmin=0, vmax=1000)"
   ]
  },
  {
   "cell_type": "code",
   "execution_count": null,
   "metadata": {},
   "outputs": [],
   "source": [
    "rgba = median.odc.to_rgba(bands=[\"red\", \"green\", \"blue\"], vmin=0, vmax=1000)\n",
    "\n",
    "rgba.odc.write_cog(\"median_rgba.tif\", overwrite=True)"
   ]
  }
 ],
 "metadata": {
  "kernelspec": {
   "display_name": "Python 3",
   "language": "python",
   "name": "python3"
  },
  "language_info": {
   "codemirror_mode": {
    "name": "ipython",
    "version": 3
   },
   "file_extension": ".py",
   "mimetype": "text/x-python",
   "name": "python",
   "nbconvert_exporter": "python",
   "pygments_lexer": "ipython3",
   "version": "3.11.8"
  },
  "orig_nbformat": 4
 },
 "nbformat": 4,
 "nbformat_minor": 2
}
